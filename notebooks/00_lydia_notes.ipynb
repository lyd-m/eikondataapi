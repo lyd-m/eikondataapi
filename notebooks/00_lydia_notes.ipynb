{
 "cells": [
  {
   "cell_type": "markdown",
   "metadata": {},
   "source": [
    "## Intro\n",
    "\n",
    "This notebook pulls out the key parts of the Eikon API tutorial in order to build up useful scripts in the future. This includes any modifications to the files in the tutorial, as well as code snippets and workflows."
   ]
  },
  {
   "cell_type": "markdown",
   "metadata": {},
   "source": [
    "## Setting up Eikon API\n",
    "\n",
    "In each new environment, you will need to reinstall eikon, as well as then import it."
   ]
  },
  {
   "cell_type": "code",
   "execution_count": null,
   "metadata": {},
   "outputs": [],
   "source": [
    "## \"eikon\" is an environment create already within anaconda, but it could be something different.\n",
    "\n",
    "conda activate eikon\n",
    "pip install eikon # no need to do this if eikon already installed in the environment\n",
    "import eikon as ek\n",
    "\n",
    "# plus import any other packages needed\n",
    "import numpy as np  # NumPy\n",
    "import pandas as pd  # pandas\n",
    "import cufflinks as cf  # Cufflinks\n",
    "import configparser as cp"
   ]
  },
  {
   "cell_type": "markdown",
   "metadata": {},
   "source": [
    "You need to ensure that when you login to eikon, you do so without saving your key in the global environment or anywhere in your code/markdown - doing so will breach your eikon licencing agreement as this API keys are very sensitive information. Once you've saved this, you can then log in to the API."
   ]
  },
  {
   "cell_type": "code",
   "execution_count": null,
   "metadata": {},
   "outputs": [],
   "source": [
    "## set app_id in your local environment OR via a text file saved in the current working directory\n",
    "\n",
    "ek.set_app_key(app_id)\n",
    "\n",
    "## then you're in"
   ]
  },
  {
   "cell_type": "markdown",
   "metadata": {},
   "source": [
    "## Setting up Refinitiv Data Platform (RDP/EDP) API\n",
    "\n",
    "RDP is a different API to the Eikon API."
   ]
  },
  {
   "cell_type": "code",
   "execution_count": null,
   "metadata": {},
   "outputs": [],
   "source": [
    "conda activate eikon\n"
   ]
  },
  {
   "cell_type": "markdown",
   "metadata": {},
   "source": [
    "## Data retrieval\n",
    "\n",
    "We will mostly be using the API only to retrieve data from Eikon, before exporting it into R to manipulate and analyse."
   ]
  },
  {
   "cell_type": "markdown",
   "metadata": {},
   "source": [
    "### Deal screener\n",
    "\n",
    "You can use the Excel plug-in for Eikon to create formulas (including data items) that can then be copied and pasted into the Python script.\n",
    "\n",
    "To do this, you create the search function you want in the SCREENER app on Eikon desktop, then \"export as formulas to Excel\". \n",
    "\n",
    "An example is below.\n",
    "\n"
   ]
  },
  {
   "cell_type": "code",
   "execution_count": 4,
   "metadata": {},
   "outputs": [
    {
     "ename": "NameError",
     "evalue": "name 'ek' is not defined",
     "output_type": "error",
     "traceback": [
      "\u001b[0;31m---------------------------------------------------------------------------\u001b[0m",
      "\u001b[0;31mNameError\u001b[0m                                 Traceback (most recent call last)",
      "Cell \u001b[0;32mIn[4], line 7\u001b[0m\n\u001b[1;32m      3\u001b[0m syntax \u001b[38;5;241m=\u001b[39m \u001b[38;5;124m'\u001b[39m\u001b[38;5;124mSCREEN(U(IN(DEALS)/*UNV:DEALSLOAN*/),IN(TR.LNParticipant(LNPartRole=LNBUP),4296555324))\u001b[39m\u001b[38;5;124m'\u001b[39m\n\u001b[1;32m      5\u001b[0m fields \u001b[38;5;241m=\u001b[39m [\u001b[38;5;124m\"\u001b[39m\u001b[38;5;124mTR.LNSdcDealNum,TR.LNAnnouncementDate,TR.LNTrancheClosingDatePrint,TR.LNIssuer,TR.LNIssuerPERMID,TR.LNIssuerPriSIC,TR.LNIssuerNation,TR.LNTotalFacilityAmount(Scale=6),TR.LNTrancheAmount(Scale=6),TR.LNTargetMarket,TR.LNUseOfProceeds(Concat=\u001b[39m\u001b[38;5;124m'\u001b[39m\u001b[38;5;124m|\u001b[39m\u001b[38;5;124m'\u001b[39m\u001b[38;5;124m),TR.LNTrancheType,TR.LNYieldType,TR.LNInitialPricingSpread(Concat=\u001b[39m\u001b[38;5;124m'\u001b[39m\u001b[38;5;124m|\u001b[39m\u001b[38;5;124m'\u001b[39m\u001b[38;5;124m),TR.LNMaturityDate,TR.LNBookRunner(Concat=\u001b[39m\u001b[38;5;124m'\u001b[39m\u001b[38;5;124m|\u001b[39m\u001b[38;5;124m'\u001b[39m\u001b[38;5;124m),TR.LNPrincipalAmountPerBookRunnerThisMarket(Scale=6),TR.LNMandatedArranger(Concat=\u001b[39m\u001b[38;5;124m'\u001b[39m\u001b[38;5;124m|\u001b[39m\u001b[38;5;124m'\u001b[39m\u001b[38;5;124m)\u001b[39m\u001b[38;5;124m\"\u001b[39m]\n\u001b[0;32m----> 7\u001b[0m df,e \u001b[38;5;241m=\u001b[39m ek\u001b[38;5;241m.\u001b[39mget_data(syntax, fields) \u001b[38;5;66;03m# adding ,e presents the answers in a nice format\u001b[39;00m\n\u001b[1;32m      8\u001b[0m df\n\u001b[1;32m     10\u001b[0m \u001b[38;5;66;03m## checking whether you can separate instruments from syntax\u001b[39;00m\n",
      "\u001b[0;31mNameError\u001b[0m: name 'ek' is not defined"
     ]
    }
   ],
   "source": [
    "## example for JBS (using its PermID only)\n",
    "\n",
    "syntax = 'SCREEN(U(IN(DEALS)/*UNV:DEALSLOAN*/),IN(TR.LNParticipant(LNPartRole=LNBUP),4296555324))'\n",
    "\n",
    "fields = [\"TR.LNSdcDealNum,TR.LNAnnouncementDate,TR.LNTrancheClosingDatePrint,TR.LNIssuer,TR.LNIssuerPERMID,TR.LNIssuerPriSIC,TR.LNIssuerNation,TR.LNTotalFacilityAmount(Scale=6),TR.LNTrancheAmount(Scale=6),TR.LNTargetMarket,TR.LNUseOfProceeds(Concat='|'),TR.LNTrancheType,TR.LNYieldType,TR.LNInitialPricingSpread(Concat='|'),TR.LNMaturityDate,TR.LNBookRunner(Concat='|'),TR.LNPrincipalAmountPerBookRunnerThisMarket(Scale=6),TR.LNMandatedArranger(Concat='|')\"]\n",
    "\n",
    "df,e = ek.get_data(syntax, fields) # adding ,e presents the answers in a nice format\n",
    "df\n",
    "\n",
    "## checking whether you can separate instruments from syntax\n",
    "\n",
    "instruments = '4296555324,ADM.N,BG.N,JBSS3.SA,MRFG3.SA,BEEF3.SA' # this will not work, they all need to be the same type\n",
    "\n",
    "df_loans,e = ek.get_data(\"SCREEN(U(IN(DEALS)/*UNV:DEALSLOAN*/),IN(TR.LNParticipant(LNPartRole=LNBUP),\" + instruments + \"))\", fields)\n",
    "# this only returns the deals for 4296555324 (JBS)"
   ]
  },
  {
   "cell_type": "markdown",
   "metadata": {},
   "source": [
    "When putting different companies into the screener manually, it searches using PermID. In general, you should use PermID\n",
    "since whilst RICs can change, PermIDs won't."
   ]
  },
  {
   "cell_type": "code",
   "execution_count": null,
   "metadata": {},
   "outputs": [],
   "source": [
    "## Simple export of LOAN deals for ADM, Cargill, JBS, Bunge, Minerva, Marfrig - not mapping to ultimate parents etc\n",
    "\n",
    "instruments = '4295859830,4295859969,4295860302,4295903463,4296555324,5086635324'\n",
    "\n",
    "fields = [\"TR.LNSdcDealNum,TR.LNAnnouncementDate,TR.LNTrancheClosingDatePrint,TR.LNIssuer,TR.LNIssuerPERMID,TR.LNIssuerPriSIC,TR.LNIssuerNation,TR.LNTotalFacilityAmount(Scale=6),TR.LNTrancheAmount(Scale=6),TR.LNTargetMarket,TR.LNUseOfProceeds(Concat='|'),TR.LNTrancheType,TR.LNYieldType,TR.LNInitialPricingSpread(Concat='|'),TR.LNMaturityDate,TR.LNBookRunner(Concat='|'),TR.LNPrincipalAmountPerBookRunnerThisMarket(Scale=6),TR.LNMandatedArranger(Concat='|')\"]\n",
    "\n",
    "df_loans,e = ek.get_data(\"SCREEN(U(IN(DEALS)/*UNV:DEALSLOAN*/),IN(TR.LNParticipant(LNPartRole=LNBUP),\" + instruments + \"))\", fields)\n",
    "df_loans\n",
    "\n",
    "df.to_csv(\"/Users/lydiamarsden/Library/CloudStorage/OneDrive-UniversityCollegeLondon/Documents/Programming/Mini projects/eikon_api/loans_test.csv\")\n"
   ]
  },
  {
   "cell_type": "markdown",
   "metadata": {},
   "source": [
    "### Bond deals\n",
    "\n",
    "Formula exported from Deal Screener:\n",
    "\n",
    "=@TR(\"SCREEN(U(IN(DEALS)/*UNV:DEALSBOND*/),TR.NIisECM=False,IN(TR.NIParticipant(NIDealPartRole=IS,ISIP,ISUP),4295859830,4295859969,4295860302,4295903463,4296555324,5086635324))\",\"TR.NISdcPackageNumber,TR.NISdcDealNumber,TR.NIIssueDate,TR.NITransactionStatus,TR.NIIssuer,TR.NIIssu\"&\"erPermID,TR.NIIssuerDomicileNation,TR.NIIssuerTRBCBusinessSector,TR.NIIssuerTRBCInd,TR.NIIssueType(C\"&\"oncat='|'),TR.NIProceedsAmtInclOverallotSoldThisMkt(Scale=6),TR.NIProceedsAmtInclOverallotSoldAllMkt\"&\"s(Scale=6),TR.NIGrossSpreadAsPctOfPrincipalAmtThisMktPrint,TR.NIGrossSpreadPerShareOrBondUsdPrint,TR\"&\".NITotalImputedDealFees(Scale=6),TR.NIBookRunner(Concat='|'),TR.NIBookRunnerCount,TR.NIManagers(Conc\"&\"at='|'),TR.NIAllManagersRole(Concat='|'),TR.NIManagerAllocShares(Concat='|'),TR.NIManagerAllocAmt(Sc\"&\"ale=6,Concat='|'),TR.NIIssuerUltParentPermID /*EncodedScreenStart[{\"\"currency\"\":\"\"USD\"\",\"\"universeĊĀ\"&\"listsĊ[ĀnamĚċADM.NĐ\"\"idĊ\"\"4295903463įtypĨāompanĉđtooltipĳArchė-Dňiels-Mılňd CoįindexĊ0},ĤĦŃBGĭũĲċ508\"&\"6Ľ5324ĿŁŃcŅŇŉĿōŏőĳBēge Global SAũūŭĊ1űųħĳJBSS3.ƝŹĳĵķžĺ02ƅłĳƈņňŊ\"\"ŌŎŐŒċƨSƜƞđŪŬŮ:2Ƥ\"\"ĥƦċMRFGƬƮǈźĴĶ58ĸ8\"&\"30ƷƇƉƼƌǀƏǒarfrigƕƗƙƛFōdsǆƟǊĊ3ǎǐŵEEFǗǇİǚƱǝĸ969ǣƹǥƋŋƍǁĳšnėvaǹǈƠǋ4ǾŴưĶ65ȥƂƄǙȢȋȥƁƃȎċƺƊƽƿƎǂ\"\"CǫgilƛIć (ƱȤ\"&\"Ȧƃ)Ǻơ:5}]đƚlě\"\"acŐĖĊtrueȜɒɔĨfƚęđowȗĘhǩɟŞɚ\"\"pǮmǫyOnlĉ:ɗəđɭĕatɞɠɫpubĝcɖɘɫƈēɗŁɮɰquoɽĊɩęű\"\"ŭclusionġ:[ɌĒ\"&\"ĔĖĘeŧnɽxtĳDEALSBONďđŬƚPǫŐcőňtRŎŃIS,˅IPˇSUPŹTƆĊnuȼʖfȻɽĘĢʣƗȺcƚOłrɼʝʟTąeʠ˓ȼđmoŬĳsc˨nįţğGǮdTeņţʒ:ƥŃCăąʪƜ\"&\"˳eĆ ˼˾ɼĚŋˑċgǲƚ\"\"}}]EncodedScreenEnd*/ \",\"Curn=USD CH=Fd\")"
   ]
  },
  {
   "cell_type": "code",
   "execution_count": 7,
   "metadata": {},
   "outputs": [
    {
     "ename": "NameError",
     "evalue": "name 'ek' is not defined",
     "output_type": "error",
     "traceback": [
      "\u001b[0;31m---------------------------------------------------------------------------\u001b[0m",
      "\u001b[0;31mNameError\u001b[0m                                 Traceback (most recent call last)",
      "Cell \u001b[0;32mIn[7], line 9\u001b[0m\n\u001b[1;32m      5\u001b[0m \u001b[38;5;66;03m# to set currency, use {\"Curn\":\"USD\"}\u001b[39;00m\n\u001b[1;32m      7\u001b[0m fields \u001b[38;5;241m=\u001b[39m \u001b[38;5;124m\"\u001b[39m\u001b[38;5;124mTR.NISdcPackageNumber,TR.NISdcDealNumber,TR.NIIssueDate,TR.NITransactionStatus,TR.NIIssuer,TR.NIIssuerPermID,TR.NIIssuerDomicileNation,TR.NIIssuerTRBCBusinessSector,TR.NIIssuerTRBCInd,TR.NIIssueType(Concat=\u001b[39m\u001b[38;5;124m'\u001b[39m\u001b[38;5;124m|\u001b[39m\u001b[38;5;124m'\u001b[39m\u001b[38;5;124m),TR.NIProceedsAmtInclOverallotSoldThisMkt(Scale=6),TR.NIProceedsAmtInclOverallotSoldAllMkts(Scale=6),TR.NIGrossSpreadAsPctOfPrincipalAmtThisMktPrint,TR.NIGrossSpreadPerShareOrBondUsdPrint,TR.NITotalImputedDealFees(Scale=6),TR.NIBookRunner(Concat=\u001b[39m\u001b[38;5;124m'\u001b[39m\u001b[38;5;124m|\u001b[39m\u001b[38;5;124m'\u001b[39m\u001b[38;5;124m),TR.NIBookRunnerCount,TR.NIManagers(Concat=\u001b[39m\u001b[38;5;124m'\u001b[39m\u001b[38;5;124m|\u001b[39m\u001b[38;5;124m'\u001b[39m\u001b[38;5;124m),TR.NIAllManagersRole(Concat=\u001b[39m\u001b[38;5;124m'\u001b[39m\u001b[38;5;124m|\u001b[39m\u001b[38;5;124m'\u001b[39m\u001b[38;5;124m),TR.NIManagerAllocShares(Concat=\u001b[39m\u001b[38;5;124m'\u001b[39m\u001b[38;5;124m|\u001b[39m\u001b[38;5;124m'\u001b[39m\u001b[38;5;124m),TR.NIManagerAllocAmt(Scale=6,Concat=\u001b[39m\u001b[38;5;124m'\u001b[39m\u001b[38;5;124m|\u001b[39m\u001b[38;5;124m'\u001b[39m\u001b[38;5;124m),TR.NIIssuerUltParentPermID\u001b[39m\u001b[38;5;124m\"\u001b[39m,{\u001b[38;5;124m\"\u001b[39m\u001b[38;5;124mCurn\u001b[39m\u001b[38;5;124m\"\u001b[39m:\u001b[38;5;124m\"\u001b[39m\u001b[38;5;124mUSD\u001b[39m\u001b[38;5;124m\"\u001b[39m}\n\u001b[0;32m----> 9\u001b[0m df,e \u001b[38;5;241m=\u001b[39m ek\u001b[38;5;241m.\u001b[39mget_data(\u001b[38;5;124m\"\u001b[39m\u001b[38;5;124mSCREEN(U(IN(DEALS)/*UNV:DEALSBOND*/),TR.NIisECM=False,IN(TR.NIParticipant(NIDealPartRole=IS,ISIP,ISUP),\u001b[39m\u001b[38;5;124m\"\u001b[39m \u001b[38;5;241m+\u001b[39m instruments \u001b[38;5;241m+\u001b[39m\u001b[38;5;124m\"\u001b[39m\u001b[38;5;124m))\u001b[39m\u001b[38;5;124m\"\u001b[39m, fields)\n",
      "\u001b[0;31mNameError\u001b[0m: name 'ek' is not defined"
     ]
    }
   ],
   "source": [
    "## Simple export of BOND deals for ADM, JBS, Cargill, Bunge, Minerva, Marfrig\n",
    "\n",
    "instruments = '4295859830,4295859969,4295860302,4295903463,4296555324,5086635324'\n",
    "\n",
    "# to set currency, use {\"Curn\":\"USD\"}\n",
    "\n",
    "fields = \"TR.NISdcPackageNumber,TR.NISdcDealNumber,TR.NIIssueDate,TR.NITransactionStatus,TR.NIIssuer,TR.NIIssuerPermID,TR.NIIssuerDomicileNation,TR.NIIssuerTRBCBusinessSector,TR.NIIssuerTRBCInd,TR.NIIssueType(Concat='|'),TR.NIProceedsAmtInclOverallotSoldThisMkt(Scale=6),TR.NIProceedsAmtInclOverallotSoldAllMkts(Scale=6),TR.NIGrossSpreadAsPctOfPrincipalAmtThisMktPrint,TR.NIGrossSpreadPerShareOrBondUsdPrint,TR.NITotalImputedDealFees(Scale=6),TR.NIBookRunner(Concat='|'),TR.NIBookRunnerCount,TR.NIManagers(Concat='|'),TR.NIAllManagersRole(Concat='|'),TR.NIManagerAllocShares(Concat='|'),TR.NIManagerAllocAmt(Scale=6,Concat='|'),TR.NIIssuerUltParentPermID\"\n",
    "\n",
    "df,e = ek.get_data(\"SCREEN(U(IN(DEALS)/*UNV:DEALSBOND*/),TR.NIisECM=False,IN(TR.NIParticipant(NIDealPartRole=IS,ISIP,ISUP),\" + instruments +\"))\", fields, {\"Curn\":\"USD\"})"
   ]
  },
  {
   "cell_type": "markdown",
   "metadata": {},
   "source": [
    "### Equity issuances\n",
    "\n",
    "=@TR(\"SCREEN(U(IN(DEALS)/*UNV:DEALSBOND*/),TR.NIisECM=False,IN(TR.NIParticipant(NIDealPartRole=IS,ISIP,ISUP),4295859830,4295859969,4295860302,4295903463,4296555324,5086635324))\",\"TR.NISdcPackageNumber,TR.NISdcDealNumber,TR.NIIssueDate,TR.NITransactionStatus,TR.NIIssuer,TR.NIIssu\"&\"erPermID,TR.NIIssuerDomicileNation,TR.NIIssuerTRBCBusinessSector,TR.NIIssuerTRBCInd,TR.NIIssueType(C\"&\"oncat='|'),TR.NIProceedsAmtInclOverallotSoldThisMkt(Scale=6),TR.NIProceedsAmtInclOverallotSoldAllMkt\"&\"s(Scale=6),TR.NIGrossSpreadAsPctOfPrincipalAmtThisMktPrint,TR.NIGrossSpreadPerShareOrBondUsdPrint,TR\"&\".NITotalImputedDealFees(Scale=6),TR.NIBookRunner(Concat='|'),TR.NIBookRunnerCount,TR.NIManagers(Conc\"&\"at='|'),TR.NIAllManagersRole(Concat='|'),TR.NIManagerAllocShares(Concat='|'),TR.NIManagerAllocAmt(Sc\"&\"ale=6,Concat='|'),TR.NIIssuerUltParentPermID /*EncodedScreenStart[{\"\"currency\"\":\"\"USD\"\",\"\"universeĊĀ\"&\"listsĊ[ĀnamĚċADM.NĐ\"\"idĊ\"\"4295903463įtypĨāompanĉđtooltipĳArchė-Dňiels-Mılňd CoįindexĊ0},ĤĦŃBGĭũĲċ508\"&\"6Ľ5324ĿŁŃcŅŇŉĿōŏőĳBēge Global SAũūŭĊ1űųħĳJBSS3.ƝŹĳĵķžĺ02ƅłĳƈņňŊ\"\"ŌŎŐŒċƨSƜƞđŪŬŮ:2Ƥ\"\"ĥƦċMRFGƬƮǈźĴĶ58ĸ8\"&\"30ƷƇƉƼƌǀƏǒarfrigƕƗƙƛFōdsǆƟǊĊ3ǎǐŵEEFǗǇİǚƱǝĸ969ǣƹǥƋŋƍǁĳšnėvaǹǈƠǋ4ǾŴưĶ65ȥƂƄǙȢȋȥƁƃȎċƺƊƽƿƎǂ\"\"CǫgilƛIć (ƱȤ\"&\"Ȧƃ)Ǻơ:5}]đƚlě\"\"acŐĖĊtrueȜɒɔĨfƚęđowȗĘhǩɟŞɚ\"\"pǮmǫyOnlĉ:ɗəđɭĕatɞɠɫpubĝcɖɘɫƈēɗŁɮɰquoɽĊɩęű\"\"ŭclusionġ:[ɌĒ\"&\"ĔĖĘeŧnɽxtĳDEALSBONďđŬƚPǫŐcőňtRŎŃIS,˅IPˇSUPŹTƆĊnuȼʖfȻɽĘĢʣƗȺcƚOłrɼʝʟTąeʠ˓ȼđmoŬĳsc˨nįţğGǮdTeņţʒ:ƥŃCăąʪƜ\"&\"˳eĆ ˼˾ɼĚŋˑċgǲƚ\"\"}}]EncodedScreenEnd*/ \",\"Curn=USD CH=Fd\")"
   ]
  },
  {
   "cell_type": "code",
   "execution_count": null,
   "metadata": {},
   "outputs": [],
   "source": [
    "## Simple export of equity issuances using Deal Screener template\n",
    "\n",
    "instruments = '4295859830,4295859969,4295860302,4295903463,4296555324,5086635324'\n",
    "\n",
    "fields = \"TR.NISdcPackageNumber,TR.NISdcDealNumber,TR.NIIssueDate,TR.NITransactionStatus,TR.NIIssuer,TR.NIIssuerPermID,TR.NIIssuerDomicileNation,TR.NIIssuerTRBCBusinessSector,TR.NIIssuerTRBCInd,TR.NIIssueType(Concat='|'),TR.NIProceedsAmtInclOverallotSoldThisMkt(Scale=6),TR.NIProceedsAmtInclOverallotSoldAllMkts(Scale=6),TR.NIGrossSpreadAsPctOfPrincipalAmtThisMktPrint,TR.NIGrossSpreadPerShareOrBondUsdPrint,TR.NITotalImputedDealFees(Scale=6),TR.NIBookRunner(Concat='|'),TR.NIBookRunnerCount,TR.NIManagers(Concat='|'),TR.NIAllManagersRole(Concat='|'),TR.NIManagerAllocShares(Concat='|'),TR.NIManagerAllocAmt(Scale=6,Concat='|'),TR.NIIssuerUltParentPermID\"\n",
    "\n",
    "df_equity_issuances,e = ek.get_data(\"SCREEN(U(IN(DEALS)/*UNV:DEALSBOND*/),TR.NIisECM=False,IN(TR.NIParticipant(NIDealPartRole=IS,ISIP,ISUP),\" + instruments + \"))\",fields,{\"Curn\":\"USD\"})\n",
    "df_equity_issuances "
   ]
  },
  {
   "cell_type": "markdown",
   "metadata": {},
   "source": [
    "### Shareholders\n",
    "\n",
    "ek.get_data"
   ]
  },
  {
   "cell_type": "markdown",
   "metadata": {},
   "source": [
    "NOTE THAT FILES ARE EXPORTED AS UTF-8, so may appear strange in Mac for e.g., Spanish names"
   ]
  },
  {
   "cell_type": "markdown",
   "metadata": {},
   "source": [
    "### Symbology"
   ]
  },
  {
   "cell_type": "code",
   "execution_count": 1,
   "metadata": {},
   "outputs": [
    {
     "ename": "NameError",
     "evalue": "name 'ek' is not defined",
     "output_type": "error",
     "traceback": [
      "\u001b[0;31m---------------------------------------------------------------------------\u001b[0m",
      "\u001b[0;31mNameError\u001b[0m                                 Traceback (most recent call last)",
      "Cell \u001b[0;32mIn[1], line 1\u001b[0m\n\u001b[0;32m----> 1\u001b[0m ek\u001b[38;5;241m.\u001b[39mget_symbology(\u001b[38;5;124m'\u001b[39m\u001b[38;5;124m4296555324\u001b[39m\u001b[38;5;124m'\u001b[39m, from_symbol_type\u001b[38;5;241m=\u001b[39m\u001b[38;5;124m'\u001b[39m\u001b[38;5;124mPermID\u001b[39m\u001b[38;5;124m'\u001b[39m, to_symbol_type\u001b[38;5;241m=\u001b[39m\u001b[38;5;124m'\u001b[39m\u001b[38;5;124mRIC\u001b[39m\u001b[38;5;124m'\u001b[39m)\n",
      "\u001b[0;31mNameError\u001b[0m: name 'ek' is not defined"
     ]
    }
   ],
   "source": [
    "ek.get_symbology('4296555324', from_symbol_type='PermID', to_symbol_type='RIC')"
   ]
  }
 ],
 "metadata": {
  "kernelspec": {
   "display_name": "eikon",
   "language": "python",
   "name": "python3"
  },
  "language_info": {
   "codemirror_mode": {
    "name": "ipython",
    "version": 3
   },
   "file_extension": ".py",
   "mimetype": "text/x-python",
   "name": "python",
   "nbconvert_exporter": "python",
   "pygments_lexer": "ipython3",
   "version": "3.11.5"
  }
 },
 "nbformat": 4,
 "nbformat_minor": 2
}
