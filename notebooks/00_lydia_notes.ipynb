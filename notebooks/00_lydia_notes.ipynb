{
 "cells": [
  {
   "cell_type": "markdown",
   "metadata": {},
   "source": [
    "## Intro\n",
    "\n",
    "This notebook pulls out the key parts of the Eikon API tutorial in order to build up useful scripts in the future. This includes any modifications to the files in the tutorial, as well as code snippets and workflows."
   ]
  },
  {
   "cell_type": "markdown",
   "metadata": {},
   "source": [
    "## Setting up Eikon API\n",
    "\n",
    "In each new environment, you will need to reinstall eikon, as well as then import it."
   ]
  },
  {
   "cell_type": "code",
   "execution_count": null,
   "metadata": {},
   "outputs": [],
   "source": [
    "## \"eikon\" is an environment create already within anaconda, but it could be something different.\n",
    "\n",
    "conda activate eikon\n",
    "pip install eikon # no need to do this if eikon already installed in the environment\n",
    "import eikon as ek\n",
    "\n",
    "# plus import any other packages needed\n",
    "import numpy as np  # NumPy\n",
    "import pandas as pd  # pandas\n",
    "import cufflinks as cf  # Cufflinks\n",
    "import configparser as cp"
   ]
  },
  {
   "cell_type": "markdown",
   "metadata": {},
   "source": [
    "You need to ensure that when you login to eikon, you do so without saving your key in the global environment or anywhere in your code/markdown - doing so will breach your eikon licencing agreement as this API keys are very sensitive information. Once you've saved this, you can then log in to the API."
   ]
  },
  {
   "cell_type": "code",
   "execution_count": null,
   "metadata": {},
   "outputs": [],
   "source": [
    "## set app_id in your local environment OR via a text file saved in the current working directory\n",
    "\n",
    "ek.set_app_key(app_id)\n",
    "\n",
    "## then you're in"
   ]
  }
 ],
 "metadata": {
  "language_info": {
   "name": "python"
  }
 },
 "nbformat": 4,
 "nbformat_minor": 2
}
